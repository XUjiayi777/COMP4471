{
 "cells": [
  {
   "cell_type": "code",
   "execution_count": null,
   "id": "81824ab8",
   "metadata": {},
   "outputs": [],
   "source": [
    "from google.colab import drive\n",
    "\n",
    "drive.mount('/content/drive')\n",
    "\n",
    "# TODO: Enter the path in your Drive of the assignment.\n",
    "# e.g. 'cs231n/assignments/assignment1/'\n",
    "FOLDERNAME = None\n",
    "\n",
    "assert FOLDERNAME is not None, \"[!] Enter the foldername.\""
   ]
  },
  {
   "cell_type": "markdown",
   "id": "6be91a6a",
   "metadata": {},
   "source": [
    "# Collect Submission - Zip + Generate PDF \n",
    "\n",
    "Run this notebook once you have completed all the other notebooks: `knn.ipynb`, `svm.ipynb`, `softmax.ipynb`, `two_layer_net.ipynb` and `features.ipynb`).\n",
    "\n",
    "It will:\n",
    "\n",
    "* Generate a zip file of your code (`.py` and `.ipynb`) called `a1_code_submission.zip`.\n",
    "* Convert all notebooks into a single PDF file called `a1_inline_submission.pdf`.\n",
    "\n",
    "If your submission for this step was successful, you should see the following display message:\n",
    "\n",
    "`### Done! Please submit a1_code_submission.zip and a1_inline_submission.pdf to Gradescope. ###`\n",
    "\n",
    "Make sure to download the zip and pdf file locally to your computer, then submit to Gradescope. Congrats on succesfully completing the assignment!"
   ]
  },
  {
   "cell_type": "code",
   "execution_count": 6,
   "id": "aa146f82",
   "metadata": {},
   "outputs": [
    {
     "name": "stderr",
     "output_type": "stream",
     "text": [
      "'sudo' �����ڲ����ⲿ���Ҳ���ǿ����еĳ���\n",
      "���������ļ���\n"
     ]
    },
    {
     "name": "stdout",
     "output_type": "stream",
     "text": [
      "Requirement already satisfied: PyPDF2 in c:\\users\\surface\\anaconda3\\envs\\comp4471a1\\lib\\site-packages (3.0.1)\n",
      "Requirement already satisfied: typing_extensions>=3.10.0.0 in c:\\users\\surface\\anaconda3\\envs\\comp4471a1\\lib\\site-packages (from PyPDF2) (4.8.0)\n",
      "\"haha\"\n",
      "### Zipping file ###\n",
      "### Creating PDFs ###\n",
      "Created PDF knn.ipynb.\n",
      "Created PDF svm.ipynb.\n",
      "Created PDF softmax.ipynb.\n",
      "Created PDF two_layer_net.ipynb.\n",
      "Created PDF features.ipynb.\n"
     ]
    },
    {
     "name": "stderr",
     "output_type": "stream",
     "text": [
      "Traceback (most recent call last):\n",
      "  File \"makepdf.py\", line 45, in <module>\n",
      "    main(args.notebooks, args.pdf_filename)\n",
      "  File \"makepdf.py\", line 31, in main\n",
      "    merger.append(pdf)\n",
      "  File \"C:\\Users\\surface\\anaconda3\\envs\\comp4471A1\\lib\\site-packages\\PyPDF2\\_utils.py\", line 417, in wrapper\n",
      "    return func(*args, **kwargs)\n",
      "  File \"C:\\Users\\surface\\anaconda3\\envs\\comp4471A1\\lib\\site-packages\\PyPDF2\\_merger.py\", line 319, in append\n",
      "    self.merge(len(self.pages), fileobj, outline_item, pages, import_outline)\n",
      "  File \"C:\\Users\\surface\\anaconda3\\envs\\comp4471A1\\lib\\site-packages\\PyPDF2\\_utils.py\", line 417, in wrapper\n",
      "    return func(*args, **kwargs)\n",
      "  File \"C:\\Users\\surface\\anaconda3\\envs\\comp4471A1\\lib\\site-packages\\PyPDF2\\_merger.py\", line 194, in merge\n",
      "    stream, encryption_obj = self._create_stream(fileobj)\n",
      "  File \"C:\\Users\\surface\\anaconda3\\envs\\comp4471A1\\lib\\site-packages\\PyPDF2\\_merger.py\", line 263, in _create_stream\n",
      "    stream = FileIO(fileobj, \"rb\")\n",
      "FileNotFoundError: [Errno 2] No such file or directory: 'knn.pdf'\n"
     ]
    }
   ],
   "source": [
    "# %cd drive/My\\ Drive\n",
    "# %cd $FOLDERNAME\n",
    "!sudo apt-get install texlive-xetex texlive-fonts-recommended texlive-plain-generic\n",
    "!pip install PyPDF2\n",
    "!bash collectSubmission.sh"
   ]
  }
 ],
 "metadata": {
  "kernelspec": {
   "display_name": "Python 3.8.18 ('comp4471A1')",
   "language": "python",
   "name": "python3"
  },
  "language_info": {
   "codemirror_mode": {
    "name": "ipython",
    "version": 3
   },
   "file_extension": ".py",
   "mimetype": "text/x-python",
   "name": "python",
   "nbconvert_exporter": "python",
   "pygments_lexer": "ipython3",
   "version": "3.8.18"
  },
  "vscode": {
   "interpreter": {
    "hash": "24247d740aca7ccc46246e82723a35d82aeb130a4338a8f1ae064a7c8edf8934"
   }
  }
 },
 "nbformat": 4,
 "nbformat_minor": 5
}
